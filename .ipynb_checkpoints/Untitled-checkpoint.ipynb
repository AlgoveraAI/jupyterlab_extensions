{
 "cells": [
  {
   "cell_type": "code",
   "execution_count": 1,
   "id": "60a38d5d-7055-49b9-a23e-a41c627831f5",
   "metadata": {},
   "outputs": [
    {
     "ename": "ModuleNotFoundError",
     "evalue": "No module named 'datasets'",
     "output_type": "error",
     "traceback": [
      "\u001b[0;31m---------------------------------------------------------------------------\u001b[0m",
      "\u001b[0;31mModuleNotFoundError\u001b[0m                       Traceback (most recent call last)",
      "\u001b[0;32m/var/folders/xj/yxwtvrv95n77ycc9hpngfr700000gn/T/ipykernel_99391/2698237731.py\u001b[0m in \u001b[0;36m<module>\u001b[0;34m\u001b[0m\n\u001b[0;32m----> 1\u001b[0;31m \u001b[0;32mfrom\u001b[0m \u001b[0mipylab\u001b[0m \u001b[0;32mimport\u001b[0m \u001b[0mJupyterFrontEnd\u001b[0m\u001b[0;34m\u001b[0m\u001b[0;34m\u001b[0m\u001b[0m\n\u001b[0m\u001b[1;32m      2\u001b[0m \u001b[0;34m\u001b[0m\u001b[0m\n\u001b[1;32m      3\u001b[0m \u001b[0mapp\u001b[0m \u001b[0;34m=\u001b[0m \u001b[0mJupyterFrontEnd\u001b[0m\u001b[0;34m(\u001b[0m\u001b[0;34m)\u001b[0m\u001b[0;34m\u001b[0m\u001b[0;34m\u001b[0m\u001b[0m\n",
      "\u001b[0;32m~/Development/Algovera/testing_repo/jupyterlab_extensions/ipylab/ipylab/__init__.py\u001b[0m in \u001b[0;36m<module>\u001b[0;34m\u001b[0m\n\u001b[1;32m     11\u001b[0m \u001b[0;32mfrom\u001b[0m \u001b[0;34m.\u001b[0m\u001b[0m_version\u001b[0m \u001b[0;32mimport\u001b[0m \u001b[0m__version__\u001b[0m\u001b[0;34m,\u001b[0m \u001b[0mversion_info\u001b[0m\u001b[0;34m\u001b[0m\u001b[0;34m\u001b[0m\u001b[0m\n\u001b[1;32m     12\u001b[0m \u001b[0;34m\u001b[0m\u001b[0m\n\u001b[0;32m---> 13\u001b[0;31m \u001b[0;32mfrom\u001b[0m \u001b[0;34m.\u001b[0m\u001b[0mjupyterfrontend\u001b[0m \u001b[0;32mimport\u001b[0m \u001b[0mJupyterFrontEnd\u001b[0m\u001b[0;34m\u001b[0m\u001b[0;34m\u001b[0m\u001b[0m\n\u001b[0m\u001b[1;32m     14\u001b[0m \u001b[0;32mfrom\u001b[0m \u001b[0;34m.\u001b[0m\u001b[0mwidgets\u001b[0m \u001b[0;32mimport\u001b[0m \u001b[0mPanel\u001b[0m\u001b[0;34m,\u001b[0m \u001b[0mSplitPanel\u001b[0m\u001b[0;34m\u001b[0m\u001b[0;34m\u001b[0m\u001b[0m\n\u001b[1;32m     15\u001b[0m \u001b[0;34m\u001b[0m\u001b[0m\n",
      "\u001b[0;32m~/Development/Algovera/testing_repo/jupyterlab_extensions/ipylab/ipylab/jupyterfrontend.py\u001b[0m in \u001b[0;36m<module>\u001b[0;34m\u001b[0m\n\u001b[1;32m     14\u001b[0m \u001b[0;32mfrom\u001b[0m \u001b[0;34m.\u001b[0m\u001b[0mshell\u001b[0m \u001b[0;32mimport\u001b[0m \u001b[0mShell\u001b[0m\u001b[0;34m\u001b[0m\u001b[0;34m\u001b[0m\u001b[0m\n\u001b[1;32m     15\u001b[0m \u001b[0;32mfrom\u001b[0m \u001b[0;34m.\u001b[0m\u001b[0msessions\u001b[0m \u001b[0;32mimport\u001b[0m \u001b[0mSessionManager\u001b[0m\u001b[0;34m\u001b[0m\u001b[0;34m\u001b[0m\u001b[0m\n\u001b[0;32m---> 16\u001b[0;31m \u001b[0;32mfrom\u001b[0m \u001b[0;34m.\u001b[0m\u001b[0mocean_transaction\u001b[0m \u001b[0;32mimport\u001b[0m \u001b[0mCryptoPunks\u001b[0m\u001b[0;34m\u001b[0m\u001b[0;34m\u001b[0m\u001b[0m\n\u001b[0m\u001b[1;32m     17\u001b[0m \u001b[0;34m\u001b[0m\u001b[0m\n\u001b[1;32m     18\u001b[0m \u001b[0;34m\u001b[0m\u001b[0m\n",
      "\u001b[0;32m~/Development/Algovera/testing_repo/jupyterlab_extensions/ipylab/ipylab/ocean_transaction.py\u001b[0m in \u001b[0;36m<module>\u001b[0;34m\u001b[0m\n\u001b[1;32m      2\u001b[0m \u001b[0;32mimport\u001b[0m \u001b[0mos\u001b[0m\u001b[0;34m\u001b[0m\u001b[0;34m\u001b[0m\u001b[0m\n\u001b[1;32m      3\u001b[0m \u001b[0;32mimport\u001b[0m \u001b[0mpickle\u001b[0m\u001b[0;34m\u001b[0m\u001b[0;34m\u001b[0m\u001b[0m\n\u001b[0;32m----> 4\u001b[0;31m \u001b[0;32mimport\u001b[0m \u001b[0mdatasets\u001b[0m\u001b[0;34m\u001b[0m\u001b[0;34m\u001b[0m\u001b[0m\n\u001b[0m\u001b[1;32m      5\u001b[0m \u001b[0;32mimport\u001b[0m \u001b[0mnumpy\u001b[0m \u001b[0;32mas\u001b[0m \u001b[0mnp\u001b[0m\u001b[0;34m\u001b[0m\u001b[0;34m\u001b[0m\u001b[0m\n\u001b[1;32m      6\u001b[0m \u001b[0;32mfrom\u001b[0m \u001b[0mocean_lib\u001b[0m\u001b[0;34m.\u001b[0m\u001b[0mocean\u001b[0m\u001b[0;34m.\u001b[0m\u001b[0mocean\u001b[0m \u001b[0;32mimport\u001b[0m \u001b[0mOcean\u001b[0m\u001b[0;34m\u001b[0m\u001b[0;34m\u001b[0m\u001b[0m\n",
      "\u001b[0;31mModuleNotFoundError\u001b[0m: No module named 'datasets'"
     ]
    }
   ],
   "source": [
    "from ipylab import JupyterFrontEnd\n",
    "\n",
    "app = JupyterFrontEnd()"
   ]
  },
  {
   "cell_type": "code",
   "execution_count": 2,
   "id": "af73ff8f-e545-47da-9760-d4566e747395",
   "metadata": {
    "collapsed": true,
    "jupyter": {
     "outputs_hidden": true
    },
    "tags": []
   },
   "outputs": [
    {
     "data": {
      "text/plain": [
       "['completer:invoke',\n",
       " 'completer:select',\n",
       " 'tooltip:dismiss',\n",
       " 'apputils:activate-command-palette',\n",
       " 'apputils:load-statedb',\n",
       " 'apputils:reset',\n",
       " 'apputils:reset-on-load',\n",
       " 'apputils:print',\n",
       " 'apputils:run-first-enabled',\n",
       " 'apputils:run-all-enabled',\n",
       " 'docmanager:clone',\n",
       " 'docmanager:rename',\n",
       " 'docmanager:delete',\n",
       " 'docmanager:show-in-file-browser',\n",
       " 'docmanager:delete-file',\n",
       " 'docmanager:new-untitled',\n",
       " 'docmanager:open',\n",
       " 'docmanager:reload',\n",
       " 'docmanager:restore-checkpoint',\n",
       " 'docmanager:save',\n",
       " 'docmanager:save-all',\n",
       " 'docmanager:save-as',\n",
       " 'docmanager:toggle-autosave',\n",
       " '__internal:context-menu-info',\n",
       " 'application:close',\n",
       " 'application:close-other-tabs',\n",
       " 'application:close-right-tabs',\n",
       " 'application:activate-next-tab',\n",
       " 'application:activate-previous-tab',\n",
       " 'application:activate-next-tab-bar',\n",
       " 'application:activate-previous-tab-bar',\n",
       " 'application:close-all',\n",
       " 'application:toggle-left-area',\n",
       " 'application:toggle-right-area',\n",
       " 'application:toggle-presentation-mode',\n",
       " 'application:set-mode',\n",
       " 'application:toggle-mode',\n",
       " 'apputils:toggle-header',\n",
       " 'launcher:create',\n",
       " 'statusbar:toggle',\n",
       " 'documentsearch:start',\n",
       " 'documentsearch:startWithReplace',\n",
       " 'documentsearch:highlightNext',\n",
       " 'documentsearch:highlightPrevious',\n",
       " 'help:about',\n",
       " 'help:launch-classic-notebook',\n",
       " 'help:jupyter-forum',\n",
       " 'apputils:change-theme',\n",
       " 'apputils:theme-scrollbars',\n",
       " 'apputils:change-font',\n",
       " 'apputils:incr-font-size',\n",
       " 'apputils:decr-font-size',\n",
       " 'docmanager:download',\n",
       " 'docmanager:open-browser-tab',\n",
       " 'htmlviewer:trust-html',\n",
       " 'imageviewer:zoom-in',\n",
       " 'imageviewer:zoom-out',\n",
       " 'imageviewer:reset-image',\n",
       " 'imageviewer:rotate-clockwise',\n",
       " 'imageviewer:rotate-counterclockwise',\n",
       " 'imageviewer:flip-horizontal',\n",
       " 'imageviewer:flip-vertical',\n",
       " 'imageviewer:invert-colors',\n",
       " 'rendermime:handle-local-link',\n",
       " 'inspector:open',\n",
       " 'extensionmanager:toggle',\n",
       " 'markdownviewer:open',\n",
       " 'markdownviewer:edit',\n",
       " 'settingeditor:open',\n",
       " 'settingeditor:revert',\n",
       " 'settingeditor:save',\n",
       " 'connect_wallet',\n",
       " 'send_transaction',\n",
       " 'ocean_transaction',\n",
       " 'kernel-output:create',\n",
       " 'kernel-output:execute',\n",
       " 'workspace-ui:save-as',\n",
       " 'workspace-ui:save',\n",
       " 'filebrowser:share-main',\n",
       " 'filebrowser:download',\n",
       " 'filebrowser:copy-download-link',\n",
       " 'filebrowser:activate',\n",
       " 'filebrowser:hide-main',\n",
       " 'filebrowser:open-browser-tab',\n",
       " 'filebrowser:delete',\n",
       " 'filebrowser:copy',\n",
       " 'filebrowser:cut',\n",
       " 'filebrowser:duplicate',\n",
       " 'filebrowser:go-to-path',\n",
       " 'filebrowser:go-up',\n",
       " 'filebrowser:open-path',\n",
       " 'filebrowser:open',\n",
       " 'filebrowser:paste',\n",
       " 'filebrowser:create-new-directory',\n",
       " 'filebrowser:create-new-file',\n",
       " 'filebrowser:create-new-markdown-file',\n",
       " 'filebrowser:rename',\n",
       " 'filebrowser:copy-path',\n",
       " 'filebrowser:shutdown',\n",
       " 'filebrowser:toggle-main',\n",
       " 'filebrowser:create-main-launcher',\n",
       " 'filebrowser:toggle-navigate-to-current-directory',\n",
       " 'filebrowser:toggle-last-modified',\n",
       " 'filebrowser:toggle-hidden-files',\n",
       " 'filebrowser:search',\n",
       " 'editmenu:undo',\n",
       " 'editmenu:redo',\n",
       " 'editmenu:clear-current',\n",
       " 'editmenu:clear-all',\n",
       " 'editmenu:go-to-line',\n",
       " 'filemenu:close-and-cleanup',\n",
       " 'filemenu:create-console',\n",
       " 'filemenu:shutdown',\n",
       " 'filemenu:logout',\n",
       " 'kernelmenu:interrupt',\n",
       " 'kernelmenu:reconnect-to-kernel',\n",
       " 'kernelmenu:restart',\n",
       " 'kernelmenu:restart-and-clear',\n",
       " 'kernelmenu:change',\n",
       " 'kernelmenu:shutdown',\n",
       " 'kernelmenu:shutdownAll',\n",
       " 'runmenu:run',\n",
       " 'runmenu:run-all',\n",
       " 'runmenu:restart-and-run-all',\n",
       " 'viewmenu:line-numbering',\n",
       " 'viewmenu:match-brackets',\n",
       " 'viewmenu:word-wrap',\n",
       " 'tabsmenu:activate-by-id',\n",
       " 'tabsmenu:activate-previously-used-tab',\n",
       " 'editmenu:open',\n",
       " 'filemenu:open',\n",
       " 'kernelmenu:open',\n",
       " 'runmenu:open',\n",
       " 'viewmenu:open',\n",
       " 'settingsmenu:open',\n",
       " 'tabsmenu:open',\n",
       " 'helpmenu:open',\n",
       " 'mainmenu:open-first',\n",
       " 'help:open',\n",
       " 'notebook:run-cell-and-select-next',\n",
       " 'notebook:run-cell',\n",
       " 'notebook:run-cell-and-insert-below',\n",
       " 'notebook:run-all-cells',\n",
       " 'notebook:run-all-above',\n",
       " 'notebook:run-all-below',\n",
       " 'notebook:render-all-markdown',\n",
       " 'notebook:restart-kernel',\n",
       " 'notebook:close-and-shutdown',\n",
       " 'notebook:trust',\n",
       " 'notebook:restart-clear-output',\n",
       " 'notebook:restart-and-run-to-selected',\n",
       " 'notebook:restart-run-all',\n",
       " 'notebook:clear-all-cell-outputs',\n",
       " 'notebook:clear-cell-output',\n",
       " 'notebook:interrupt-kernel',\n",
       " 'notebook:change-cell-to-code',\n",
       " 'notebook:change-cell-to-markdown',\n",
       " 'notebook:change-cell-to-raw',\n",
       " 'notebook:cut-cell',\n",
       " 'notebook:copy-cell',\n",
       " 'notebook:paste-cell-below',\n",
       " 'notebook:paste-cell-above',\n",
       " 'notebook:paste-and-replace-cell',\n",
       " 'notebook:delete-cell',\n",
       " 'notebook:split-cell-at-cursor',\n",
       " 'notebook:merge-cells',\n",
       " 'notebook:merge-cell-above',\n",
       " 'notebook:merge-cell-below',\n",
       " 'notebook:insert-cell-above',\n",
       " 'notebook:insert-cell-below',\n",
       " 'notebook:move-cursor-up',\n",
       " 'notebook:move-cursor-down',\n",
       " 'notebook:extend-marked-cells-above',\n",
       " 'notebook:extend-marked-cells-top',\n",
       " 'notebook:extend-marked-cells-below',\n",
       " 'notebook:extend-marked-cells-bottom',\n",
       " 'notebook:select-all',\n",
       " 'notebook:deselect-all',\n",
       " 'notebook:move-cell-up',\n",
       " 'notebook:move-cell-down',\n",
       " 'notebook:toggle-all-cell-line-numbers',\n",
       " 'notebook:enter-command-mode',\n",
       " 'notebook:enter-edit-mode',\n",
       " 'notebook:undo-cell-action',\n",
       " 'notebook:redo-cell-action',\n",
       " 'notebook:change-kernel',\n",
       " 'notebook:reconnect-to-kernel',\n",
       " 'notebook:change-cell-to-heading-1',\n",
       " 'notebook:change-cell-to-heading-2',\n",
       " 'notebook:change-cell-to-heading-3',\n",
       " 'notebook:change-cell-to-heading-4',\n",
       " 'notebook:change-cell-to-heading-5',\n",
       " 'notebook:change-cell-to-heading-6',\n",
       " 'notebook:hide-cell-code',\n",
       " 'notebook:show-cell-code',\n",
       " 'notebook:hide-all-cell-code',\n",
       " 'notebook:show-all-cell-code',\n",
       " 'notebook:hide-cell-outputs',\n",
       " 'notebook:show-cell-outputs',\n",
       " 'notebook:hide-all-cell-outputs',\n",
       " 'notebook:toggle-render-side-by-side',\n",
       " 'notebook:set-side-by-side-ratio',\n",
       " 'notebook:show-all-cell-outputs',\n",
       " 'notebook:enable-output-scrolling',\n",
       " 'notebook:disable-output-scrolling',\n",
       " 'notebook:select-last-run-cell',\n",
       " 'notebook:replace-selection',\n",
       " 'Collapsible_Headings:Toggle_Collapse',\n",
       " 'Collapsible_Headings:Collapse_All',\n",
       " 'Collapsible_Headings:Expand_All',\n",
       " 'notebook:create-new',\n",
       " 'help:licenses',\n",
       " 'help:licenses-refresh',\n",
       " 'help:license-report',\n",
       " 'terminal:create-new',\n",
       " 'terminal:open',\n",
       " 'terminal:refresh',\n",
       " 'terminal:increase-font',\n",
       " 'terminal:decrease-font',\n",
       " 'terminal:set-theme',\n",
       " 'notebook:toggle-autoclosing-brackets',\n",
       " 'completer:invoke-notebook',\n",
       " 'completer:select-notebook',\n",
       " 'logconsole:open',\n",
       " 'logconsole:add-checkpoint',\n",
       " 'logconsole:clear',\n",
       " 'logconsole:set-level',\n",
       " 'notebook:export-to-format',\n",
       " 'notebook:create-output-view',\n",
       " 'notebook:create-console',\n",
       " 'notebook:run-in-console',\n",
       " 'notebook:copy-to-clipboard',\n",
       " 'tooltip:launch-notebook',\n",
       " 'console:toggle-autoclosing-brackets',\n",
       " 'console:open',\n",
       " 'console:create',\n",
       " 'console:clear',\n",
       " 'console:run-unforced',\n",
       " 'console:run-forced',\n",
       " 'console:linebreak',\n",
       " 'console:replace-selection',\n",
       " 'console:interrupt-kernel',\n",
       " 'console:restart-kernel',\n",
       " 'console:close-and-shutdown',\n",
       " 'console:inject',\n",
       " 'console:change-kernel',\n",
       " 'console:interaction-mode',\n",
       " '@jupyter-widgets/jupyterlab-manager:saveWidgetState',\n",
       " 'completer:invoke-console',\n",
       " 'completer:select-console',\n",
       " 'console:toggle-show-all-kernel-activity',\n",
       " 'tooltip:launch-console',\n",
       " 'fileeditor:change-font-size',\n",
       " 'fileeditor:toggle-line-numbers',\n",
       " 'fileeditor:toggle-line-wrap',\n",
       " 'fileeditor:change-tabs',\n",
       " 'fileeditor:toggle-match-brackets',\n",
       " 'fileeditor:toggle-autoclosing-brackets',\n",
       " 'fileeditor:toggle-autoclosing-brackets-universal',\n",
       " 'fileeditor:replace-selection',\n",
       " 'fileeditor:create-console',\n",
       " 'fileeditor:run-code',\n",
       " 'fileeditor:run-all',\n",
       " 'fileeditor:markdown-preview',\n",
       " 'fileeditor:create-new',\n",
       " 'fileeditor:create-new-markdown-file',\n",
       " 'fileeditor:undo',\n",
       " 'fileeditor:redo',\n",
       " 'fileeditor:cut',\n",
       " 'fileeditor:copy',\n",
       " 'fileeditor:paste',\n",
       " 'fileeditor:select-all',\n",
       " 'codemirror:change-theme',\n",
       " 'codemirror:change-keymap',\n",
       " 'codemirror:find',\n",
       " 'codemirror:go-to-line',\n",
       " 'codemirror:change-mode',\n",
       " 'completer:invoke-file',\n",
       " 'completer:select-file',\n",
       " 'tooltip:launch-file',\n",
       " 'toc:run-cells',\n",
       " 'debugger:restart-debug',\n",
       " 'debugger:inspect-variable',\n",
       " 'debugger:evaluate',\n",
       " 'debugger:continue',\n",
       " 'debugger:terminate',\n",
       " 'debugger:next',\n",
       " 'debugger:stepIn',\n",
       " 'debugger:stepOut',\n",
       " 'sidebar:switch',\n",
       " 'jupyterlab-translation:en',\n",
       " 'help-menu-python3:banner',\n",
       " 'help-menu-python3:Python Reference',\n",
       " 'help-menu-python3:IPython Reference',\n",
       " 'help-menu-python3:NumPy Reference',\n",
       " 'help-menu-python3:SciPy Reference',\n",
       " 'help-menu-python3:Matplotlib Reference',\n",
       " 'help-menu-python3:SymPy Reference',\n",
       " 'help-menu-python3:pandas Reference']"
      ]
     },
     "execution_count": 2,
     "metadata": {},
     "output_type": "execute_result"
    }
   ],
   "source": [
    "app.commands.list_commands()\n"
   ]
  },
  {
   "cell_type": "code",
   "execution_count": 2,
   "id": "e5fc0d5e-4555-4826-a4b2-c8c5057d885a",
   "metadata": {},
   "outputs": [],
   "source": [
    "app.commands.execute('connect_wallet')"
   ]
  },
  {
   "cell_type": "code",
   "execution_count": 3,
   "id": "c668661e-15ae-4c68-be14-4e163777203f",
   "metadata": {},
   "outputs": [
    {
     "data": {
      "text/plain": [
       "DatasetInfo(description='CryptoPunks is a non-fungible token (NFT) collection on the Ethereum blockchain. The dataset contains 10,000 CryptoPunk images, most of humans but also of three special types: Zombie (88), Ape (24) and Alien (9). They are provided with both clear backgrounds and teal backgrounds. \\n', citation='', homepage='https://market.oceanprotocol.com/asset/did:op:Bc6B4f3367a0c81883957142330C86F155c44973', license='', features={'image': Value(dtype='string', id=None)}, post_processed=None, supervised_keys=None, task_templates=None, builder_name=None, config_name=None, version=None, splits=None, download_checksums=None, download_size=None, post_processing_size=None, dataset_size=None, size_in_bytes=None)"
      ]
     },
     "execution_count": 3,
     "metadata": {},
     "output_type": "execute_result"
    }
   ],
   "source": [
    "app.ocean._info()"
   ]
  },
  {
   "cell_type": "code",
   "execution_count": 6,
   "id": "9013f29f-d863-427a-af74-687faa6c4914",
   "metadata": {},
   "outputs": [
    {
     "name": "stdout",
     "output_type": "stream",
     "text": [
      "executing transaction\n",
      "wallet.address = '0xA78deb2Fa79463945C247991075E2a0e98Ba7A09'\n",
      "I have 1 TREBAR-64 (1000000000000000000 wei).\n"
     ]
    },
    {
     "name": "stderr",
     "output_type": "stream",
     "text": [
      "INFO:ocean_lib.data_provider.data_service_provider:invoke the initialize endpoint with this url: https://provider.rinkeby.oceanprotocol.com/api/v1/services/initialize?documentId=did%3Aop%3Ad21196A9AC0A0Aa9df1ef6f30a440584Fe1C5E7b&serviceId=1&serviceType=access&dataToken=0xd21196A9AC0A0Aa9df1ef6f30a440584Fe1C5E7b&consumerAddress=0xA78deb2Fa79463945C247991075E2a0e98Ba7A09\n"
     ]
    },
    {
     "name": "stdout",
     "output_type": "stream",
     "text": [
      "order_tx_id = '0x3be6c2dab4459250689a9e025aedfef1f8c64e7b34c702eebf069198653af014'\n"
     ]
    },
    {
     "name": "stderr",
     "output_type": "stream",
     "text": [
      "INFO:ocean_lib.data_provider.data_service_provider:invoke consume endpoint with this url: https://provider.rinkeby.oceanprotocol.com/api/v1/services/download?documentId=did%3Aop%3Ad21196A9AC0A0Aa9df1ef6f30a440584Fe1C5E7b&serviceId=1&serviceType=access&dataToken=0xd21196A9AC0A0Aa9df1ef6f30a440584Fe1C5E7b&transferTxId=0x3be6c2dab4459250689a9e025aedfef1f8c64e7b34c702eebf069198653af014&consumerAddress=0xA78deb2Fa79463945C247991075E2a0e98Ba7A09&signature=0x4776147a81819c958ed4d31577855a80ce0c81255d89f7e2ccba50df0a5543c574506989ac6f4f5424b5e0513c7ee077e1c4d49618bd764bc5167e7607e1c46f1c&fileIndex=0\n"
     ]
    },
    {
     "name": "stdout",
     "output_type": "stream",
     "text": [
      "signing message with nonce 0: did:op:d21196A9AC0A0Aa9df1ef6f30a440584Fe1C5E7b, account=0xA78deb2Fa79463945C247991075E2a0e98Ba7A09\n"
     ]
    },
    {
     "name": "stderr",
     "output_type": "stream",
     "text": [
      "INFO:ocean_lib.data_provider.data_service_provider:Saved downloaded file in /Users/jakubsmekal/Development/Algovera/jupyterlab_extensions/ipylab/datafile.0xd21196A9AC0A0Aa9df1ef6f30a440584Fe1C5E7b.1/tealpunks.zip\n"
     ]
    },
    {
     "name": "stdout",
     "output_type": "stream",
     "text": [
      "file_path = '/Users/jakubsmekal/Development/Algovera/jupyterlab_extensions/ipylab/datafile.0xd21196A9AC0A0Aa9df1ef6f30a440584Fe1C5E7b.1'\n"
     ]
    }
   ],
   "source": [
    "data_path = app.ocean._buy_and_download()"
   ]
  },
  {
   "cell_type": "code",
   "execution_count": 3,
   "id": "8cdac954-e4e8-4b7a-b2d1-6d7c0ce02bae",
   "metadata": {},
   "outputs": [],
   "source": [
    "import web3"
   ]
  },
  {
   "cell_type": "code",
   "execution_count": 4,
   "id": "3bbefa40-c89c-428d-af8e-d4bf83f394a3",
   "metadata": {},
   "outputs": [
    {
     "data": {
      "text/plain": [
       "<module 'web3' from '/Users/jakubsmekal/miniconda3/envs/jupyterlab-ext/lib/python3.9/site-packages/web3/__init__.py'>"
      ]
     },
     "execution_count": 4,
     "metadata": {},
     "output_type": "execute_result"
    }
   ],
   "source": [
    "web3"
   ]
  },
  {
   "cell_type": "code",
   "execution_count": null,
   "id": "640259a7-ee5e-412a-a08d-c4309331bdb7",
   "metadata": {},
   "outputs": [],
   "source": []
  }
 ],
 "metadata": {
  "kernelspec": {
   "display_name": "Python 3 (ipykernel)",
   "language": "python",
   "name": "python3"
  },
  "language_info": {
   "codemirror_mode": {
    "name": "ipython",
    "version": 3
   },
   "file_extension": ".py",
   "mimetype": "text/x-python",
   "name": "python",
   "nbconvert_exporter": "python",
   "pygments_lexer": "ipython3",
   "version": "3.9.9"
  }
 },
 "nbformat": 4,
 "nbformat_minor": 5
}

{
 "cells": [
  {
   "cell_type": "code",
   "execution_count": 1,
   "id": "5b382acb-9c45-4f39-aa73-27f18e3c3fbf",
   "metadata": {},
   "outputs": [],
   "source": [
    "from ipylab import JupyterFrontEnd\n",
    "\n",
    "app = JupyterFrontEnd()"
   ]
  },
  {
   "cell_type": "code",
   "execution_count": 2,
   "id": "a53a784d-1bcb-413e-a68b-91e1eff24058",
   "metadata": {},
   "outputs": [],
   "source": [
    "did = \"did:op:d21196A9AC0A0Aa9df1ef6f30a440584Fe1C5E7b\"\n",
    "pool_address = \"0x2d35D25C5BF1005B310284d00Ad05b9F35ea827B\""
   ]
  },
  {
   "cell_type": "code",
   "execution_count": 3,
   "id": "6ff220d1-c78c-4b60-92f5-c46d136a266f",
   "metadata": {
    "collapsed": true,
    "jupyter": {
     "outputs_hidden": true
    },
    "tags": []
   },
   "outputs": [
    {
     "data": {
      "text/plain": [
       "['completer:invoke',\n",
       " 'completer:select',\n",
       " 'tooltip:dismiss',\n",
       " 'apputils:activate-command-palette',\n",
       " 'apputils:load-statedb',\n",
       " 'apputils:reset',\n",
       " 'apputils:reset-on-load',\n",
       " 'apputils:print',\n",
       " 'apputils:run-first-enabled',\n",
       " 'apputils:run-all-enabled',\n",
       " 'docmanager:clone',\n",
       " 'docmanager:rename',\n",
       " 'docmanager:delete',\n",
       " 'docmanager:show-in-file-browser',\n",
       " 'docmanager:delete-file',\n",
       " 'docmanager:new-untitled',\n",
       " 'docmanager:open',\n",
       " 'docmanager:reload',\n",
       " 'docmanager:restore-checkpoint',\n",
       " 'docmanager:save',\n",
       " 'docmanager:save-all',\n",
       " 'docmanager:save-as',\n",
       " 'docmanager:toggle-autosave',\n",
       " '__internal:context-menu-info',\n",
       " 'application:close',\n",
       " 'application:close-other-tabs',\n",
       " 'application:close-right-tabs',\n",
       " 'application:activate-next-tab',\n",
       " 'application:activate-previous-tab',\n",
       " 'application:activate-next-tab-bar',\n",
       " 'application:activate-previous-tab-bar',\n",
       " 'application:close-all',\n",
       " 'application:toggle-left-area',\n",
       " 'application:toggle-right-area',\n",
       " 'application:toggle-presentation-mode',\n",
       " 'application:set-mode',\n",
       " 'application:toggle-mode',\n",
       " 'apputils:toggle-header',\n",
       " 'launcher:create',\n",
       " 'statusbar:toggle',\n",
       " 'documentsearch:start',\n",
       " 'documentsearch:startWithReplace',\n",
       " 'documentsearch:highlightNext',\n",
       " 'documentsearch:highlightPrevious',\n",
       " 'help:about',\n",
       " 'help:launch-classic-notebook',\n",
       " 'help:jupyter-forum',\n",
       " 'apputils:change-theme',\n",
       " 'apputils:theme-scrollbars',\n",
       " 'apputils:change-font',\n",
       " 'apputils:incr-font-size',\n",
       " 'apputils:decr-font-size',\n",
       " 'docmanager:download',\n",
       " 'docmanager:open-browser-tab',\n",
       " 'htmlviewer:trust-html',\n",
       " 'imageviewer:zoom-in',\n",
       " 'imageviewer:zoom-out',\n",
       " 'imageviewer:reset-image',\n",
       " 'imageviewer:rotate-clockwise',\n",
       " 'imageviewer:rotate-counterclockwise',\n",
       " 'imageviewer:flip-horizontal',\n",
       " 'imageviewer:flip-vertical',\n",
       " 'imageviewer:invert-colors',\n",
       " 'rendermime:handle-local-link',\n",
       " 'inspector:open',\n",
       " 'extensionmanager:toggle',\n",
       " 'markdownviewer:open',\n",
       " 'markdownviewer:edit',\n",
       " 'settingeditor:open',\n",
       " 'settingeditor:revert',\n",
       " 'settingeditor:save',\n",
       " 'connect_wallet',\n",
       " 'send_transaction',\n",
       " 'ocean_transaction',\n",
       " 'kernel-output:create',\n",
       " 'kernel-output:execute',\n",
       " 'workspace-ui:save-as',\n",
       " 'workspace-ui:save',\n",
       " 'filebrowser:share-main',\n",
       " 'filebrowser:download',\n",
       " 'filebrowser:copy-download-link',\n",
       " 'filebrowser:activate',\n",
       " 'filebrowser:hide-main',\n",
       " 'filebrowser:open-browser-tab',\n",
       " 'filebrowser:delete',\n",
       " 'filebrowser:copy',\n",
       " 'filebrowser:cut',\n",
       " 'filebrowser:duplicate',\n",
       " 'filebrowser:go-to-path',\n",
       " 'filebrowser:go-up',\n",
       " 'filebrowser:open-path',\n",
       " 'filebrowser:open',\n",
       " 'filebrowser:paste',\n",
       " 'filebrowser:create-new-directory',\n",
       " 'filebrowser:create-new-file',\n",
       " 'filebrowser:create-new-markdown-file',\n",
       " 'filebrowser:rename',\n",
       " 'filebrowser:copy-path',\n",
       " 'filebrowser:shutdown',\n",
       " 'filebrowser:toggle-main',\n",
       " 'filebrowser:create-main-launcher',\n",
       " 'filebrowser:toggle-navigate-to-current-directory',\n",
       " 'filebrowser:toggle-last-modified',\n",
       " 'filebrowser:toggle-hidden-files',\n",
       " 'filebrowser:search',\n",
       " 'editmenu:undo',\n",
       " 'editmenu:redo',\n",
       " 'editmenu:clear-current',\n",
       " 'editmenu:clear-all',\n",
       " 'editmenu:go-to-line',\n",
       " 'filemenu:close-and-cleanup',\n",
       " 'filemenu:create-console',\n",
       " 'filemenu:shutdown',\n",
       " 'filemenu:logout',\n",
       " 'kernelmenu:interrupt',\n",
       " 'kernelmenu:reconnect-to-kernel',\n",
       " 'kernelmenu:restart',\n",
       " 'kernelmenu:restart-and-clear',\n",
       " 'kernelmenu:change',\n",
       " 'kernelmenu:shutdown',\n",
       " 'kernelmenu:shutdownAll',\n",
       " 'runmenu:run',\n",
       " 'runmenu:run-all',\n",
       " 'runmenu:restart-and-run-all',\n",
       " 'viewmenu:line-numbering',\n",
       " 'viewmenu:match-brackets',\n",
       " 'viewmenu:word-wrap',\n",
       " 'tabsmenu:activate-by-id',\n",
       " 'tabsmenu:activate-previously-used-tab',\n",
       " 'editmenu:open',\n",
       " 'filemenu:open',\n",
       " 'kernelmenu:open',\n",
       " 'runmenu:open',\n",
       " 'viewmenu:open',\n",
       " 'settingsmenu:open',\n",
       " 'tabsmenu:open',\n",
       " 'helpmenu:open',\n",
       " 'mainmenu:open-first',\n",
       " 'help:open',\n",
       " 'notebook:run-cell-and-select-next',\n",
       " 'notebook:run-cell',\n",
       " 'notebook:run-cell-and-insert-below',\n",
       " 'notebook:run-all-cells',\n",
       " 'notebook:run-all-above',\n",
       " 'notebook:run-all-below',\n",
       " 'notebook:render-all-markdown',\n",
       " 'notebook:restart-kernel',\n",
       " 'notebook:close-and-shutdown',\n",
       " 'notebook:trust',\n",
       " 'notebook:restart-clear-output',\n",
       " 'notebook:restart-and-run-to-selected',\n",
       " 'notebook:restart-run-all',\n",
       " 'notebook:clear-all-cell-outputs',\n",
       " 'notebook:clear-cell-output',\n",
       " 'notebook:interrupt-kernel',\n",
       " 'notebook:change-cell-to-code',\n",
       " 'notebook:change-cell-to-markdown',\n",
       " 'notebook:change-cell-to-raw',\n",
       " 'notebook:cut-cell',\n",
       " 'notebook:copy-cell',\n",
       " 'notebook:paste-cell-below',\n",
       " 'notebook:paste-cell-above',\n",
       " 'notebook:paste-and-replace-cell',\n",
       " 'notebook:delete-cell',\n",
       " 'notebook:split-cell-at-cursor',\n",
       " 'notebook:merge-cells',\n",
       " 'notebook:merge-cell-above',\n",
       " 'notebook:merge-cell-below',\n",
       " 'notebook:insert-cell-above',\n",
       " 'notebook:insert-cell-below',\n",
       " 'notebook:move-cursor-up',\n",
       " 'notebook:move-cursor-down',\n",
       " 'notebook:extend-marked-cells-above',\n",
       " 'notebook:extend-marked-cells-top',\n",
       " 'notebook:extend-marked-cells-below',\n",
       " 'notebook:extend-marked-cells-bottom',\n",
       " 'notebook:select-all',\n",
       " 'notebook:deselect-all',\n",
       " 'notebook:move-cell-up',\n",
       " 'notebook:move-cell-down',\n",
       " 'notebook:toggle-all-cell-line-numbers',\n",
       " 'notebook:enter-command-mode',\n",
       " 'notebook:enter-edit-mode',\n",
       " 'notebook:undo-cell-action',\n",
       " 'notebook:redo-cell-action',\n",
       " 'notebook:change-kernel',\n",
       " 'notebook:reconnect-to-kernel',\n",
       " 'notebook:change-cell-to-heading-1',\n",
       " 'notebook:change-cell-to-heading-2',\n",
       " 'notebook:change-cell-to-heading-3',\n",
       " 'notebook:change-cell-to-heading-4',\n",
       " 'notebook:change-cell-to-heading-5',\n",
       " 'notebook:change-cell-to-heading-6',\n",
       " 'notebook:hide-cell-code',\n",
       " 'notebook:show-cell-code',\n",
       " 'notebook:hide-all-cell-code',\n",
       " 'notebook:show-all-cell-code',\n",
       " 'notebook:hide-cell-outputs',\n",
       " 'notebook:show-cell-outputs',\n",
       " 'notebook:hide-all-cell-outputs',\n",
       " 'notebook:toggle-render-side-by-side',\n",
       " 'notebook:set-side-by-side-ratio',\n",
       " 'notebook:show-all-cell-outputs',\n",
       " 'notebook:enable-output-scrolling',\n",
       " 'notebook:disable-output-scrolling',\n",
       " 'notebook:select-last-run-cell',\n",
       " 'notebook:replace-selection',\n",
       " 'Collapsible_Headings:Toggle_Collapse',\n",
       " 'Collapsible_Headings:Collapse_All',\n",
       " 'Collapsible_Headings:Expand_All',\n",
       " 'notebook:create-new',\n",
       " 'help:licenses',\n",
       " 'help:licenses-refresh',\n",
       " 'help:license-report',\n",
       " 'terminal:create-new',\n",
       " 'terminal:open',\n",
       " 'terminal:refresh',\n",
       " 'terminal:increase-font',\n",
       " 'terminal:decrease-font',\n",
       " 'terminal:set-theme',\n",
       " 'notebook:toggle-autoclosing-brackets',\n",
       " 'completer:invoke-notebook',\n",
       " 'completer:select-notebook',\n",
       " 'logconsole:open',\n",
       " 'logconsole:add-checkpoint',\n",
       " 'logconsole:clear',\n",
       " 'logconsole:set-level',\n",
       " 'notebook:export-to-format',\n",
       " 'notebook:create-output-view',\n",
       " 'notebook:create-console',\n",
       " 'notebook:run-in-console',\n",
       " 'notebook:copy-to-clipboard',\n",
       " 'tooltip:launch-notebook',\n",
       " 'console:toggle-autoclosing-brackets',\n",
       " 'console:open',\n",
       " 'console:create',\n",
       " 'console:clear',\n",
       " 'console:run-unforced',\n",
       " 'console:run-forced',\n",
       " 'console:linebreak',\n",
       " 'console:replace-selection',\n",
       " 'console:interrupt-kernel',\n",
       " 'console:restart-kernel',\n",
       " 'console:close-and-shutdown',\n",
       " 'console:inject',\n",
       " 'console:change-kernel',\n",
       " 'console:interaction-mode',\n",
       " '@jupyter-widgets/jupyterlab-manager:saveWidgetState',\n",
       " 'completer:invoke-console',\n",
       " 'completer:select-console',\n",
       " 'console:toggle-show-all-kernel-activity',\n",
       " 'tooltip:launch-console',\n",
       " 'fileeditor:change-font-size',\n",
       " 'fileeditor:toggle-line-numbers',\n",
       " 'fileeditor:toggle-line-wrap',\n",
       " 'fileeditor:change-tabs',\n",
       " 'fileeditor:toggle-match-brackets',\n",
       " 'fileeditor:toggle-autoclosing-brackets',\n",
       " 'fileeditor:toggle-autoclosing-brackets-universal',\n",
       " 'fileeditor:replace-selection',\n",
       " 'fileeditor:create-console',\n",
       " 'fileeditor:run-code',\n",
       " 'fileeditor:run-all',\n",
       " 'fileeditor:markdown-preview',\n",
       " 'fileeditor:create-new',\n",
       " 'fileeditor:create-new-markdown-file',\n",
       " 'fileeditor:undo',\n",
       " 'fileeditor:redo',\n",
       " 'fileeditor:cut',\n",
       " 'fileeditor:copy',\n",
       " 'fileeditor:paste',\n",
       " 'fileeditor:select-all',\n",
       " 'codemirror:change-theme',\n",
       " 'codemirror:change-keymap',\n",
       " 'codemirror:find',\n",
       " 'codemirror:go-to-line',\n",
       " 'codemirror:change-mode',\n",
       " 'completer:invoke-file',\n",
       " 'completer:select-file',\n",
       " 'tooltip:launch-file',\n",
       " 'toc:run-cells',\n",
       " 'debugger:restart-debug',\n",
       " 'debugger:inspect-variable',\n",
       " 'debugger:evaluate',\n",
       " 'debugger:continue',\n",
       " 'debugger:terminate',\n",
       " 'debugger:next',\n",
       " 'debugger:stepIn',\n",
       " 'debugger:stepOut',\n",
       " 'sidebar:switch',\n",
       " 'jupyterlab-translation:en',\n",
       " 'help-menu-python3:banner',\n",
       " 'help-menu-python3:Python Reference',\n",
       " 'help-menu-python3:IPython Reference',\n",
       " 'help-menu-python3:NumPy Reference',\n",
       " 'help-menu-python3:SciPy Reference',\n",
       " 'help-menu-python3:Matplotlib Reference',\n",
       " 'help-menu-python3:SymPy Reference',\n",
       " 'help-menu-python3:pandas Reference']"
      ]
     },
     "execution_count": 3,
     "metadata": {},
     "output_type": "execute_result"
    }
   ],
   "source": [
    "app.commands.list_commands()"
   ]
  },
  {
   "cell_type": "code",
   "execution_count": 2,
   "id": "778eeea1-64a5-439d-97ba-e27e29b17757",
   "metadata": {
    "collapsed": true,
    "jupyter": {
     "outputs_hidden": true
    },
    "tags": []
   },
   "outputs": [
    {
     "name": "stdout",
     "output_type": "stream",
     "text": [
      "executing transaction\n",
      "wallet.address = '0x8b8115a4b5B97f59B57DC8d5c3BbaCb16140f785'\n"
     ]
    },
    {
     "ename": "AssertionError",
     "evalue": "need ganache OCEAN",
     "output_type": "error",
     "traceback": [
      "\u001b[0;31m---------------------------------------------------------------------------\u001b[0m",
      "\u001b[0;31mAssertionError\u001b[0m                            Traceback (most recent call last)",
      "\u001b[0;32m/var/folders/xj/yxwtvrv95n77ycc9hpngfr700000gn/T/ipykernel_2944/1203719887.py\u001b[0m in \u001b[0;36m<module>\u001b[0;34m\u001b[0m\n\u001b[0;32m----> 1\u001b[0;31m \u001b[0mapp\u001b[0m\u001b[0;34m.\u001b[0m\u001b[0mocean\u001b[0m\u001b[0;34m.\u001b[0m\u001b[0m_buy_and_download\u001b[0m\u001b[0;34m(\u001b[0m\u001b[0;34m)\u001b[0m\u001b[0;34m\u001b[0m\u001b[0;34m\u001b[0m\u001b[0m\n\u001b[0m",
      "\u001b[0;32m~/Development/Algovera/testing_repo/jupyterlab_extensions/ipylab/ipylab/ocean_transaction.py\u001b[0m in \u001b[0;36m_buy_and_download\u001b[0;34m(self)\u001b[0m\n\u001b[1;32m     95\u001b[0m         \u001b[0;32massert\u001b[0m \u001b[0mocean\u001b[0m\u001b[0;34m.\u001b[0m\u001b[0mweb3\u001b[0m\u001b[0;34m.\u001b[0m\u001b[0meth\u001b[0m\u001b[0;34m.\u001b[0m\u001b[0mget_balance\u001b[0m\u001b[0;34m(\u001b[0m\u001b[0mwallet\u001b[0m\u001b[0;34m.\u001b[0m\u001b[0maddress\u001b[0m\u001b[0;34m)\u001b[0m \u001b[0;34m>\u001b[0m \u001b[0;36m0\u001b[0m\u001b[0;34m,\u001b[0m \u001b[0;34m\"need ganache ETH\"\u001b[0m\u001b[0;34m\u001b[0m\u001b[0;34m\u001b[0m\u001b[0m\n\u001b[1;32m     96\u001b[0m         \u001b[0;31m#Verify that Bob has OCEAN\u001b[0m\u001b[0;34m\u001b[0m\u001b[0;34m\u001b[0m\u001b[0m\n\u001b[0;32m---> 97\u001b[0;31m         \u001b[0;32massert\u001b[0m \u001b[0mOCEAN_token\u001b[0m\u001b[0;34m.\u001b[0m\u001b[0mbalanceOf\u001b[0m\u001b[0;34m(\u001b[0m\u001b[0mwallet\u001b[0m\u001b[0;34m.\u001b[0m\u001b[0maddress\u001b[0m\u001b[0;34m)\u001b[0m \u001b[0;34m>\u001b[0m \u001b[0;36m0\u001b[0m\u001b[0;34m,\u001b[0m \u001b[0;34m\"need ganache OCEAN\"\u001b[0m\u001b[0;34m\u001b[0m\u001b[0;34m\u001b[0m\u001b[0m\n\u001b[0m\u001b[1;32m     98\u001b[0m         \u001b[0;31m# print(f\"I have {pretty_ether_and_wei(data_token.balanceOf(wallet.address), data_token.symbol())}.\")\u001b[0m\u001b[0;34m\u001b[0m\u001b[0;34m\u001b[0m\u001b[0m\n\u001b[1;32m     99\u001b[0m         \u001b[0;31m# assert data_token.balanceOf(wallet.address) >= to_wei(1), \"Bob didn't get 1.0 datatokens\"\u001b[0m\u001b[0;34m\u001b[0m\u001b[0;34m\u001b[0m\u001b[0m\n",
      "\u001b[0;31mAssertionError\u001b[0m: need ganache OCEAN"
     ]
    }
   ],
   "source": [
    "app.ocean._buy_and_download()"
   ]
  },
  {
   "cell_type": "code",
   "execution_count": 3,
   "id": "65625761-a113-4807-9f76-8bf252d4741a",
   "metadata": {},
   "outputs": [],
   "source": [
    "app.commands.execute('send_transaction')"
   ]
  },
  {
   "cell_type": "code",
   "execution_count": 6,
   "id": "a936edfb-cdf0-4397-a7ad-fcf685d3911b",
   "metadata": {},
   "outputs": [],
   "source": [
    "app.commands.execute('connect_wallet')"
   ]
  },
  {
   "cell_type": "code",
   "execution_count": 5,
   "id": "015715ea-092e-4cfb-a5a7-4a92ac2dde00",
   "metadata": {},
   "outputs": [
    {
     "ename": "NameError",
     "evalue": "name 'private_key' is not defined",
     "output_type": "error",
     "traceback": [
      "\u001b[0;31m---------------------------------------------------------------------------\u001b[0m",
      "\u001b[0;31mNameError\u001b[0m                                 Traceback (most recent call last)",
      "\u001b[0;32m/var/folders/xj/yxwtvrv95n77ycc9hpngfr700000gn/T/ipykernel_12723/2194049336.py\u001b[0m in \u001b[0;36m<module>\u001b[0;34m\u001b[0m\n\u001b[0;32m----> 1\u001b[0;31m \u001b[0mprint\u001b[0m\u001b[0;34m(\u001b[0m\u001b[0mprivate_key\u001b[0m\u001b[0;34m)\u001b[0m\u001b[0;34m\u001b[0m\u001b[0;34m\u001b[0m\u001b[0m\n\u001b[0m",
      "\u001b[0;31mNameError\u001b[0m: name 'private_key' is not defined"
     ]
    }
   ],
   "source": [
    "print(private_key)"
   ]
  },
  {
   "cell_type": "code",
   "execution_count": 25,
   "id": "0cb9dac3-3dff-4100-944e-e535b7bd1f7f",
   "metadata": {},
   "outputs": [
    {
     "data": {
      "application/vnd.jupyter.widget-view+json": {
       "model_id": "a148eeacd93240a2bfd7792217ac3f0c",
       "version_major": 2,
       "version_minor": 0
      },
      "text/plain": [
       "Output()"
      ]
     },
     "metadata": {},
     "output_type": "display_data"
    }
   ],
   "source": [
    "from ipylab import JupyterFrontEnd\n",
    "from ipywidgets import Output\n",
    "\n",
    "app = JupyterFrontEnd()\n",
    "out = Output()\n",
    "\n",
    "def init():\n",
    "    # show the first 5 commands\n",
    "    cmds = app.commands.list_commands()[:5]\n",
    "    out.append_stdout(cmds)\n",
    "\n",
    "app.on_ready(init)\n",
    "out"
   ]
  },
  {
   "cell_type": "code",
   "execution_count": 9,
   "id": "a610dfe6-01c1-4636-a82d-e96490085af2",
   "metadata": {},
   "outputs": [
    {
     "data": {
      "application/vnd.jupyter.widget-view+json": {
       "model_id": "06eace2cc41741f88a18b1e3f44e375e",
       "version_major": 2,
       "version_minor": 0
      },
      "text/plain": [
       "Output()"
      ]
     },
     "metadata": {},
     "output_type": "display_data"
    }
   ],
   "source": [
    "\n",
    "import asyncio\n",
    "\n",
    "app = JupyterFrontEnd()\n",
    "\n",
    "out = Output()\n",
    "\n",
    "async def init():\n",
    "    await app.ready()\n",
    "    cmds = app.commands.list_commands()[:5]\n",
    "    out.append_stdout(cmds)\n",
    "\n",
    "asyncio.create_task(init())\n",
    "out"
   ]
  },
  {
   "cell_type": "code",
   "execution_count": 10,
   "id": "14844d00-99d7-4c75-bfd2-96cb621638b0",
   "metadata": {},
   "outputs": [
    {
     "ename": "ModuleNotFoundError",
     "evalue": "No module named 'bqplot'",
     "output_type": "error",
     "traceback": [
      "\u001b[0;31m---------------------------------------------------------------------------\u001b[0m",
      "\u001b[0;31mModuleNotFoundError\u001b[0m                       Traceback (most recent call last)",
      "\u001b[0;32m/var/folders/xj/yxwtvrv95n77ycc9hpngfr700000gn/T/ipykernel_11451/954901804.py\u001b[0m in \u001b[0;36m<module>\u001b[0;34m\u001b[0m\n\u001b[1;32m      1\u001b[0m \u001b[0;32mimport\u001b[0m \u001b[0mnumpy\u001b[0m \u001b[0;32mas\u001b[0m \u001b[0mnp\u001b[0m\u001b[0;34m\u001b[0m\u001b[0;34m\u001b[0m\u001b[0m\n\u001b[1;32m      2\u001b[0m \u001b[0;34m\u001b[0m\u001b[0m\n\u001b[0;32m----> 3\u001b[0;31m \u001b[0;32mfrom\u001b[0m \u001b[0mbqplot\u001b[0m \u001b[0;32mimport\u001b[0m \u001b[0mLinearScale\u001b[0m\u001b[0;34m,\u001b[0m \u001b[0mLines\u001b[0m\u001b[0;34m,\u001b[0m \u001b[0mBars\u001b[0m\u001b[0;34m,\u001b[0m \u001b[0mAxis\u001b[0m\u001b[0;34m,\u001b[0m \u001b[0mFigure\u001b[0m\u001b[0;34m\u001b[0m\u001b[0;34m\u001b[0m\u001b[0m\n\u001b[0m\u001b[1;32m      4\u001b[0m \u001b[0;32mfrom\u001b[0m \u001b[0mipywidgets\u001b[0m \u001b[0;32mimport\u001b[0m \u001b[0mIntSlider\u001b[0m\u001b[0;34m\u001b[0m\u001b[0;34m\u001b[0m\u001b[0m\n",
      "\u001b[0;31mModuleNotFoundError\u001b[0m: No module named 'bqplot'"
     ]
    }
   ],
   "source": [
    "import numpy as np\n",
    "\n",
    "from bqplot import LinearScale, Lines, Bars, Axis, Figure\n",
    "from ipywidgets import IntSlider"
   ]
  },
  {
   "cell_type": "code",
   "execution_count": null,
   "id": "dc028b82-f4bf-450f-af79-5a3721da9c2e",
   "metadata": {},
   "outputs": [],
   "source": []
  }
 ],
 "metadata": {
  "kernelspec": {
   "display_name": "Python 3 (ipykernel)",
   "language": "python",
   "name": "python3"
  },
  "language_info": {
   "codemirror_mode": {
    "name": "ipython",
    "version": 3
   },
   "file_extension": ".py",
   "mimetype": "text/x-python",
   "name": "python",
   "nbconvert_exporter": "python",
   "pygments_lexer": "ipython3",
   "version": "3.9.9"
  },
  "toc-autonumbering": true
 },
 "nbformat": 4,
 "nbformat_minor": 5
}

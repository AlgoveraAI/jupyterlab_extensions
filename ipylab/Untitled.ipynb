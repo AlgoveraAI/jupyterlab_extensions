{
 "cells": [
  {
   "cell_type": "code",
   "execution_count": 5,
   "id": "60a38d5d-7055-49b9-a23e-a41c627831f5",
   "metadata": {},
   "outputs": [],
   "source": [
    "from ipylab import JupyterFrontEnd\n",
    "\n",
    "app = JupyterFrontEnd()"
   ]
  },
  {
   "cell_type": "code",
   "execution_count": 6,
   "id": "af73ff8f-e545-47da-9760-d4566e747395",
   "metadata": {
    "tags": []
   },
   "outputs": [
    {
     "data": {
      "text/plain": [
       "[]"
      ]
     },
     "execution_count": 6,
     "metadata": {},
     "output_type": "execute_result"
    }
   ],
   "source": [
    "app.commands.list_commands()"
   ]
  },
  {
   "cell_type": "code",
   "execution_count": 2,
   "id": "e5fc0d5e-4555-4826-a4b2-c8c5057d885a",
   "metadata": {},
   "outputs": [],
   "source": [
    "app.commands.execute('connect_wallet')"
   ]
  },
  {
   "cell_type": "code",
   "execution_count": 3,
   "id": "c668661e-15ae-4c68-be14-4e163777203f",
   "metadata": {},
   "outputs": [
    {
     "data": {
      "text/plain": [
       "DatasetInfo(description='CryptoPunks is a non-fungible token (NFT) collection on the Ethereum blockchain. The dataset contains 10,000 CryptoPunk images, most of humans but also of three special types: Zombie (88), Ape (24) and Alien (9). They are provided with both clear backgrounds and teal backgrounds. \\n', citation='', homepage='https://market.oceanprotocol.com/asset/did:op:Bc6B4f3367a0c81883957142330C86F155c44973', license='', features={'image': Value(dtype='string', id=None)}, post_processed=None, supervised_keys=None, task_templates=None, builder_name=None, config_name=None, version=None, splits=None, download_checksums=None, download_size=None, post_processing_size=None, dataset_size=None, size_in_bytes=None)"
      ]
     },
     "execution_count": 3,
     "metadata": {},
     "output_type": "execute_result"
    }
   ],
   "source": [
    "app.ocean._info()"
   ]
  },
  {
   "cell_type": "code",
   "execution_count": 6,
   "id": "9013f29f-d863-427a-af74-687faa6c4914",
   "metadata": {},
   "outputs": [
    {
     "name": "stdout",
     "output_type": "stream",
     "text": [
      "executing transaction\n",
      "wallet.address = '0xA78deb2Fa79463945C247991075E2a0e98Ba7A09'\n",
      "I have 1 TREBAR-64 (1000000000000000000 wei).\n"
     ]
    },
    {
     "name": "stderr",
     "output_type": "stream",
     "text": [
      "INFO:ocean_lib.data_provider.data_service_provider:invoke the initialize endpoint with this url: https://provider.rinkeby.oceanprotocol.com/api/v1/services/initialize?documentId=did%3Aop%3Ad21196A9AC0A0Aa9df1ef6f30a440584Fe1C5E7b&serviceId=1&serviceType=access&dataToken=0xd21196A9AC0A0Aa9df1ef6f30a440584Fe1C5E7b&consumerAddress=0xA78deb2Fa79463945C247991075E2a0e98Ba7A09\n"
     ]
    },
    {
     "name": "stdout",
     "output_type": "stream",
     "text": [
      "order_tx_id = '0x3be6c2dab4459250689a9e025aedfef1f8c64e7b34c702eebf069198653af014'\n"
     ]
    },
    {
     "name": "stderr",
     "output_type": "stream",
     "text": [
      "INFO:ocean_lib.data_provider.data_service_provider:invoke consume endpoint with this url: https://provider.rinkeby.oceanprotocol.com/api/v1/services/download?documentId=did%3Aop%3Ad21196A9AC0A0Aa9df1ef6f30a440584Fe1C5E7b&serviceId=1&serviceType=access&dataToken=0xd21196A9AC0A0Aa9df1ef6f30a440584Fe1C5E7b&transferTxId=0x3be6c2dab4459250689a9e025aedfef1f8c64e7b34c702eebf069198653af014&consumerAddress=0xA78deb2Fa79463945C247991075E2a0e98Ba7A09&signature=0x4776147a81819c958ed4d31577855a80ce0c81255d89f7e2ccba50df0a5543c574506989ac6f4f5424b5e0513c7ee077e1c4d49618bd764bc5167e7607e1c46f1c&fileIndex=0\n"
     ]
    },
    {
     "name": "stdout",
     "output_type": "stream",
     "text": [
      "signing message with nonce 0: did:op:d21196A9AC0A0Aa9df1ef6f30a440584Fe1C5E7b, account=0xA78deb2Fa79463945C247991075E2a0e98Ba7A09\n"
     ]
    },
    {
     "name": "stderr",
     "output_type": "stream",
     "text": [
      "INFO:ocean_lib.data_provider.data_service_provider:Saved downloaded file in /Users/jakubsmekal/Development/Algovera/jupyterlab_extensions/ipylab/datafile.0xd21196A9AC0A0Aa9df1ef6f30a440584Fe1C5E7b.1/tealpunks.zip\n"
     ]
    },
    {
     "name": "stdout",
     "output_type": "stream",
     "text": [
      "file_path = '/Users/jakubsmekal/Development/Algovera/jupyterlab_extensions/ipylab/datafile.0xd21196A9AC0A0Aa9df1ef6f30a440584Fe1C5E7b.1'\n"
     ]
    }
   ],
   "source": [
    "data_path = app.ocean._buy_and_download()"
   ]
  },
  {
   "cell_type": "code",
   "execution_count": 3,
   "id": "8cdac954-e4e8-4b7a-b2d1-6d7c0ce02bae",
   "metadata": {},
   "outputs": [],
   "source": [
    "import web3"
   ]
  },
  {
   "cell_type": "code",
   "execution_count": 4,
   "id": "3bbefa40-c89c-428d-af8e-d4bf83f394a3",
   "metadata": {},
   "outputs": [
    {
     "data": {
      "text/plain": [
       "<module 'web3' from '/Users/jakubsmekal/miniconda3/envs/jupyterlab-ext/lib/python3.9/site-packages/web3/__init__.py'>"
      ]
     },
     "execution_count": 4,
     "metadata": {},
     "output_type": "execute_result"
    }
   ],
   "source": [
    "web3"
   ]
  },
  {
   "cell_type": "code",
   "execution_count": null,
   "id": "640259a7-ee5e-412a-a08d-c4309331bdb7",
   "metadata": {},
   "outputs": [],
   "source": []
  }
 ],
 "metadata": {
  "kernelspec": {
   "display_name": "Python 3 (ipykernel)",
   "language": "python",
   "name": "python3"
  },
  "language_info": {
   "codemirror_mode": {
    "name": "ipython",
    "version": 3
   },
   "file_extension": ".py",
   "mimetype": "text/x-python",
   "name": "python",
   "nbconvert_exporter": "python",
   "pygments_lexer": "ipython3",
   "version": "3.9.9"
  }
 },
 "nbformat": 4,
 "nbformat_minor": 5
}
